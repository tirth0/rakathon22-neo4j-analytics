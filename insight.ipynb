{
 "cells": [
  {
   "cell_type": "code",
   "execution_count": null,
   "metadata": {},
   "outputs": [],
   "source": [
    "# Cypher Queries Find popular products\n",
    "popular_products_top5 = \"\"\"match (c:Customer)-[:PURCHASED]->(o:Order)-[:PRODUCT]->(p:Product)\n",
    "return c.companyName, p.productName, count(o) as orders\n",
    "order by orders desc\n",
    "limit 5\"\"\""
   ]
  },
  {
   "cell_type": "code",
   "execution_count": null,
   "metadata": {},
   "outputs": [],
   "source": [
    "# Recommendation based on previous purchase of a customer\n",
    "customer_recommendation = \"\"\"\n",
    "match (c:Customer)-[:PURCHASED]->(o:Order)-[:PRODUCT]->(p:Product)\n",
    "<-[:PRODUCT]-(o2:Order)-[:PRODUCT]->(p2:Product)-[:PART_OF]->(:Category)<-[:PART_OF]-(p)\n",
    "WHERE c.customerID = 'ANTON' and NOT( (c)-[:PURCHASED]->(:Order)-[:PRODUCT]->(p2) )\n",
    "return c.companyName, p.productName as has_purchased, p2.productName as has_also_purchased, count(DISTINCT o2) as occurrences\n",
    "order by occurrences desc\n",
    "limit 5\n",
    "\"\"\""
   ]
  },
  {
   "cell_type": "code",
   "execution_count": null,
   "metadata": {},
   "outputs": [],
   "source": [
    "# Collaborative filtering to display highest rated product recommendations using Knn algorithm\n",
    "knn_recommendation = \"\"\"\n",
    "MATCH (c:Customer)-[:PURCHASED]->(o:Order)-[:PRODUCT]->(p:Product)\n",
    "WITH c, count(p) as total\n",
    "MATCH (c)-[:PURCHASED]->(o:Order)-[:PRODUCT]->(p:Product)\n",
    "WITH c, total,p, count(o)*1.0 as orders\n",
    "MERGE (c)-[rated:RATED]->(p)\n",
    "ON CREATE SET rated.rating = orders/total\n",
    "ON MATCH SET rated.rating = orders/total\n",
    "WITH c.companyName as company, p.productName as product, orders, total, rated.rating as rating\n",
    "ORDER BY rating DESC\n",
    "RETURN company, product, orders, total, rating LIMIT 10\n",
    "\"\"\""
   ]
  },
  {
   "cell_type": "code",
   "execution_count": null,
   "metadata": {},
   "outputs": [],
   "source": [
    "similarity_score_based_recommendation = \"\"\"\n",
    "MATCH (c1:Customer)-[r1:RATED]->(p:Product)<-[r2:RATED]-(c2:Customer)\n",
    "WITH\n",
    "\tSUM(r1.rating*r2.rating) as dot_product,\n",
    "\tSQRT( REDUCE(x=0.0, a IN COLLECT(r1.rating) | x + a^2) ) as r1_length,\n",
    "\tSQRT( REDUCE(y=0.0, b IN COLLECT(r2.rating) | y + b^2) ) as r2_length,\n",
    "\tc1,c2\n",
    "MERGE (c1)-[s:SIMILARITY]-(c2)\n",
    "SET s.similarity = dot_product / (r1_length * r2_length)\n",
    "\n",
    "MATCH (me:Customer)-[r:SIMILARITY]->(them)\n",
    "WHERE me.customerID='ANTON'\n",
    "RETURN me.companyName, them.companyName, r.similarity\n",
    "ORDER BY r.similarity DESC limit 10\n",
    "\n",
    "WITH 1 as neighbours\n",
    "MATCH (me:Customer)-[:SIMILARITY]->(c:Customer)-[r:RATED]->(p:Product)\n",
    "WHERE me.customerID = 'ANTON' and NOT ( (me)-[:RATED|PRODUCT|ORDER*1..2]->(p:Product) )\n",
    "WITH p, COLLECT(r.rating)[0..neighbours] as ratings, collect(c.companyName)[0..neighbours] as customers\n",
    "WITH p, customers, REDUCE(s=0,i in ratings | s+i) / LENGTH(ratings)  as recommendation\n",
    "ORDER BY recommendation DESC\n",
    "RETURN p.productName, customers, recommendation LIMIT 10\n",
    "\"\"\""
   ]
  }
 ],
 "metadata": {
  "language_info": {
   "name": "python"
  },
  "orig_nbformat": 4
 },
 "nbformat": 4,
 "nbformat_minor": 2
}
